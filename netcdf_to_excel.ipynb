{
 "cells": [
  {
   "attachments": {},
   "cell_type": "markdown",
   "metadata": {},
   "source": [
    "### <center>Extracting the data we need from the NetCDF files and save them as Excel spreadsheet to facilitate the subsequent treatment"
   ]
  },
  {
   "cell_type": "code",
   "execution_count": 11,
   "metadata": {},
   "outputs": [],
   "source": [
    "# Importing relevant libraries\n",
    "\n",
    "import xarray as xr\n",
    "import pandas as pd\n",
    "import numpy as np\n",
    "import os\n",
    "import openpyxl"
   ]
  },
  {
   "cell_type": "code",
   "execution_count": 9,
   "metadata": {},
   "outputs": [],
   "source": [
    "# Directory containing the data\n",
    "\n",
    "tmean_folder = \"C:/Users/ilung/Desktop/data_analysis_project/marseille_climate/data_raw/tmean/\" # Folder containing daily average temperature data\n",
    "\n",
    "tmax_folder = \"C:/Users/ilung/Desktop/data_analysis_project/marseille_climate/data_raw/tmax/\" # Folder containing daily max temperature data\n",
    "\n",
    "tmin_folder = \"C:/Users/ilung/Desktop/data_analysis_project/marseille_climate/data_raw/tmin/\" # Folder containing daily min temperature data\n",
    "\n",
    "precipitation_folder = \"C:/Users/ilung/Desktop/data_analysis_project/marseille_climate/data_raw/precipitation/\" # Folder containing daily precipitation amount"
   ]
  },
  {
   "attachments": {},
   "cell_type": "markdown",
   "metadata": {},
   "source": [
    "Processing daily mean temperature data"
   ]
  },
  {
   "cell_type": "code",
   "execution_count": 13,
   "metadata": {},
   "outputs": [],
   "source": [
    "# Generating a list containing tne name of tmean files. Each tmean file contains data for a specific period\n",
    "\n",
    "tmean_files = []\n",
    "\n",
    "for x in os.listdir(tmean_folder):\n",
    "\n",
    "    if x.endswith (\".nc\"):\n",
    "\n",
    "        tmean_files.append(x)\n",
    "\n",
    "\n",
    "# Creating an empty list where temporary dataframe will be saved\n",
    "\n",
    "df_list = []\n",
    "\n",
    "# From each file (containing data for a specific period), we will extract the average temperature for our desired location using latitude and longitude information\n",
    "\n",
    "for file in tmean_files:\n",
    "\n",
    "    data = xr.open_dataset(tmean_folder + file) # loading the dataset\n",
    "\n",
    "    site_tmean = data.tg.sel(longitude = 5.4516 , latitude = 43.2541, method = \"nearest\") # tg is the name of the variable in the dataset\n",
    "\n",
    "    df_tmean = site_tmean.to_dataframe()\n",
    "\n",
    "    df_list.append(df_tmean)\n",
    "\n",
    "# Concantenate the dataframes in df_list in order to have a single dataframe\n",
    "\n",
    "df_tmean_final = pd.concat([df_list[0], df_list[1], df_list[2]])\n",
    "\n",
    "df_tmean_final.to_excel(\"C:/Users/ilung/Desktop/data_analysis_project/marseille_climate/data_treated/tmean.xlsx\")\n"
   ]
  },
  {
   "attachments": {},
   "cell_type": "markdown",
   "metadata": {},
   "source": [
    "Processing daily maximum temperature data"
   ]
  },
  {
   "cell_type": "code",
   "execution_count": 14,
   "metadata": {},
   "outputs": [],
   "source": [
    "# Generating a list containing tne name of tmax files. Each tmax file contains data for a specific period\n",
    "\n",
    "tmax_files = []\n",
    "\n",
    "for x in os.listdir(tmax_folder):\n",
    "\n",
    "    if x.endswith (\".nc\"):\n",
    "\n",
    "        tmax_files.append(x)\n",
    "\n",
    "\n",
    "# Creating an empty list where temporary dataframe will be saved\n",
    "\n",
    "df_list = []\n",
    "\n",
    "# From each file (containing data for a specific period), we will extract the maximum temperature for our desired location using latitude and longitude information\n",
    "\n",
    "for file in tmax_files:\n",
    "\n",
    "    data = xr.open_dataset(tmax_folder + file) # loading the dataset\n",
    "\n",
    "    site_tmax = data.tx.sel(longitude = 5.4516 , latitude = 43.2541, method = \"nearest\") # tx is the name of the variable in the dataset\n",
    "\n",
    "    df_tmax = site_tmax.to_dataframe()\n",
    "\n",
    "    df_list.append(df_tmax)\n",
    "\n",
    "# Concantenate the dataframes in df_list in order to have a single dataframe\n",
    "\n",
    "df_tmax_final = pd.concat([df_list[0], df_list[1], df_list[2]])\n",
    "\n",
    "df_tmax_final.to_excel(\"C:/Users/ilung/Desktop/data_analysis_project/marseille_climate/data_treated/tmax.xlsx\")\n"
   ]
  },
  {
   "attachments": {},
   "cell_type": "markdown",
   "metadata": {},
   "source": [
    "Processing daily minimum temperature"
   ]
  },
  {
   "cell_type": "code",
   "execution_count": 15,
   "metadata": {},
   "outputs": [],
   "source": [
    "# Generating a list containing tne name of tmin files. Each tmin file contains data for a specific period\n",
    "\n",
    "tmin_files = []\n",
    "\n",
    "for x in os.listdir(tmin_folder):\n",
    "\n",
    "    if x.endswith (\".nc\"):\n",
    "\n",
    "        tmin_files.append(x)\n",
    "\n",
    "\n",
    "# Creating an empty list where temporary dataframe will be saved\n",
    "\n",
    "df_list = []\n",
    "\n",
    "# From each file (containing data for a specific period), we will extract the minimum temperature for our desired location using latitude and longitude information\n",
    "\n",
    "for file in tmin_files:\n",
    "\n",
    "    data = xr.open_dataset(tmin_folder + file) # loading the dataset\n",
    "\n",
    "    site_tmin = data.tn.sel(longitude = 5.4516 , latitude = 43.2541, method = \"nearest\") # tn is the name of the variable in the dataset\n",
    "\n",
    "    df_tmin = site_tmin.to_dataframe()\n",
    "\n",
    "    df_list.append(df_tmin)\n",
    "\n",
    "# Concantenate the dataframes in df_list in order to have a single dataframe\n",
    "\n",
    "df_tmin_final = pd.concat([df_list[0], df_list[1], df_list[2]])\n",
    "\n",
    "df_tmin_final.to_excel(\"C:/Users/ilung/Desktop/data_analysis_project/marseille_climate/data_treated/tmin.xlsx\")"
   ]
  },
  {
   "attachments": {},
   "cell_type": "markdown",
   "metadata": {},
   "source": [
    "Processing precipitation data"
   ]
  },
  {
   "cell_type": "code",
   "execution_count": 16,
   "metadata": {},
   "outputs": [],
   "source": [
    "# Generating a list containing tne name of precipitation files. Each precipitation file contains data for a specific period\n",
    "\n",
    "precipitation_files = []\n",
    "\n",
    "for x in os.listdir(precipitation_folder):\n",
    "\n",
    "    if x.endswith (\".nc\"):\n",
    "\n",
    "        precipitation_files.append(x)\n",
    "\n",
    "\n",
    "# Creating an empty list where temporary dataframe will be saved\n",
    "\n",
    "df_list = []\n",
    "\n",
    "# From each file (containing data for a specific period), we will extract the minimum temperature for our desired location using latitude and longitude information\n",
    "\n",
    "for file in precipitation_files:\n",
    "\n",
    "    data = xr.open_dataset(precipitation_folder + file) # loading the dataset\n",
    "\n",
    "    site_precipitation = data.rr.sel(longitude = 5.4516 , latitude = 43.2541, method = \"nearest\") # rr is the name of the variable in the dataset\n",
    "\n",
    "    df_precipitation = site_precipitation.to_dataframe()\n",
    "\n",
    "    df_list.append(df_precipitation)\n",
    "\n",
    "# Concantenate the dataframes in df_list in order to have a single dataframe\n",
    "\n",
    "df_precipitation_final = pd.concat([df_list[0], df_list[1], df_list[2]])\n",
    "\n",
    "df_precipitation_final.to_excel(\"C:/Users/ilung/Desktop/data_analysis_project/marseille_climate/data_treated/precipitation.xlsx\")"
   ]
  }
 ],
 "metadata": {
  "kernelspec": {
   "display_name": "python39",
   "language": "python",
   "name": "python3"
  },
  "language_info": {
   "codemirror_mode": {
    "name": "ipython",
    "version": 3
   },
   "file_extension": ".py",
   "mimetype": "text/x-python",
   "name": "python",
   "nbconvert_exporter": "python",
   "pygments_lexer": "ipython3",
   "version": "3.9.17"
  },
  "orig_nbformat": 4
 },
 "nbformat": 4,
 "nbformat_minor": 2
}
